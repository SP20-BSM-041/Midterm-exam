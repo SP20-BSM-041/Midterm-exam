{
 "cells": [
  {
   "cell_type": "markdown",
   "id": "617b2a28",
   "metadata": {},
   "source": [
    "# Numerical Methods Mid term Paper \n",
    "\n",
    "## Total Marks : 25"
   ]
  },
  {
   "cell_type": "markdown",
   "id": "9df30db7",
   "metadata": {},
   "source": [
    "# Question #1 \n",
    "\n",
    "Convert the following algorithms into python by using functions and then solve the following problem\n",
    "\n",
    "Find the roots of the following equation\n",
    "\n",
    "$2x^2 - 5x + 3 = 0$  analytical roots are $x = 1.5,1$"
   ]
  },
  {
   "cell_type": "markdown",
   "id": "6fc01e0b",
   "metadata": {},
   "source": [
    "## Algorithm 1 (Secant Method)\n",
    "\n",
    "1. Input two values for $x_1$ and $x_2$\n",
    "2. Calculate $x_{new} = x_2 - \\frac{x_2-x_1}{f(x_2)-f(x_1)}f(x_2)$\n",
    "3. If $|x_{new} - x_2| < tolerance$ , output $x_{new}$ the root and stop\n",
    "4. If number of iterations reaches the maximum, stop.\n",
    "5. Else let $x_1=x_2$ and $x_2=x_{new}$\n",
    "6. Repeat the steps from 2"
   ]
  },
  {
   "cell_type": "markdown",
   "id": "e3f9d388",
   "metadata": {},
   "source": [
    "## Algorithm 2 (Newton's Methd)\n",
    "\n",
    "\n",
    "1. Find $f'(x)$ and define newton's raphson equation\n",
    "2. Guess an initial value of x for the first iteration\n",
    "3. substitute x in the NR equation and calculate $x^*$\n",
    "4. if $|x^*-x|<tolerance$, stop iterations and output the root: $x^*$\n",
    "5. if the number of interations reaches an assumed maximum, stop.\n",
    "6. else let $x=x^*$ and repeat the steps from 3 until a condition in 4 or 5 is satisfied."
   ]
  },
  {
   "cell_type": "markdown",
   "id": "f2e7376a",
   "metadata": {},
   "source": [
    "# Question # 2\n",
    "\n",
    "Plot the first derivative of the following function over $[-1,1]$ by using the forward, backward and central differences.\n",
    "\n",
    "Compare the plots with the theoretical one at $h = 0.1, 0.01$ and $0.001$\n",
    "\n",
    "$f(x) = 0.1x^5 - 0.2x^3 + 0.1x - 0.2$\n",
    "\n",
    "Theoretical :\n",
    "\n",
    "$f'(x) = 0.5x^4 - 0.6x^2 + 0.1$\n",
    "\n",
    "**Formulas are given for reference**\n",
    "\n",
    "**FORWARD FINITE DIFFERENCES**\n",
    "\n",
    "$f'(x) = \\frac{f(x_{i+1})-f(x_i)}{h}$\n",
    "\n",
    "$f''(x) = \\frac{f(x_{i+2})-2f(x_{i+1})+f(x_i)}{h^2}$\n",
    "\n",
    "**BACKWARD FINITE DIFFERENCES**\n",
    "\n",
    "$f'(x) = \\frac{f(x_{i}-f(x_i))}{h}$\n",
    "\n",
    "$f''(x) = \\frac{f(x_{i})-2f(x_{i-1})+f(x_{i-2})}{h^2}$\n",
    "\n",
    "**CENTRAL FINITE DIFFERENCES**\n",
    "\n",
    "$f'(x) = \\frac{f(x_{i+1})-f(x_{i-1})}{2h}$\n",
    "\n",
    "$f''(x) = \\frac{f(x_{i+1})-2f(x_i)+f(x_{i-1})}{h^2}$\n"
   ]
  },
  {
   "cell_type": "code",
   "execution_count": null,
   "id": "533ffbc6",
   "metadata": {},
   "outputs": [],
   "source": []
  }
 ],
 "metadata": {
  "kernelspec": {
   "display_name": "Python 3 (ipykernel)",
   "language": "python",
   "name": "python3"
  },
  "language_info": {
   "codemirror_mode": {
    "name": "ipython",
    "version": 3
   },
   "file_extension": ".py",
   "mimetype": "text/x-python",
   "name": "python",
   "nbconvert_exporter": "python",
   "pygments_lexer": "ipython3",
   "version": "3.9.7"
  }
 },
 "nbformat": 4,
 "nbformat_minor": 5
}
